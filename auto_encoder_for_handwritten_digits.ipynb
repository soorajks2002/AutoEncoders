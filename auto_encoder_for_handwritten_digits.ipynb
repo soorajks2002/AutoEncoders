{
  "nbformat": 4,
  "nbformat_minor": 0,
  "metadata": {
    "colab": {
      "provenance": []
    },
    "kernelspec": {
      "name": "python3",
      "display_name": "Python 3"
    },
    "language_info": {
      "name": "python"
    },
    "gpuClass": "standard"
  },
  "cells": [
    {
      "cell_type": "code",
      "execution_count": 1,
      "metadata": {
        "id": "Mh2W1HwVqV8i"
      },
      "outputs": [],
      "source": [
        "import tensorflow as tf\n",
        "import cv2\n",
        "import numpy as np\n",
        "from google.colab.patches import cv2_imshow"
      ]
    },
    {
      "cell_type": "code",
      "source": [
        "from tensorflow.keras.datasets import mnist\n",
        "(train, _), (test, _) = mnist.load_data()"
      ],
      "metadata": {
        "id": "JyFPj9mHr8Ep"
      },
      "execution_count": 2,
      "outputs": []
    },
    {
      "cell_type": "code",
      "source": [
        "encoder_input = tf.keras.layers.Input(shape=(28,28))\n",
        "encoder_flatten = tf.keras.layers.Flatten()(encoder_input)\n",
        "encoder_bottleneck = tf.keras.layers.Dense(50, activation='relu')(encoder_flatten)\n",
        "\n",
        "decoder_layer = tf.keras.layers.Dense(784, activation='relu')(encoder_bottleneck)\n",
        "decoder_reshape = tf.keras.layers.Reshape(target_shape=(28,28))(decoder_layer)"
      ],
      "metadata": {
        "id": "E_UZOZDDsER4"
      },
      "execution_count": 3,
      "outputs": []
    },
    {
      "cell_type": "code",
      "source": [
        "autoencoder_model = tf.keras.Model(inputs=encoder_input, outputs=decoder_reshape)\n",
        "autoencoder_model.compile(loss=tf.keras.losses.MeanSquaredError(), optimizer=tf.keras.optimizers.Adam())\n",
        "autoencoder_model.summary()"
      ],
      "metadata": {
        "colab": {
          "base_uri": "https://localhost:8080/"
        },
        "id": "mQ1tspm7tXpw",
        "outputId": "7dad9bb4-9b20-4169-ec40-001319dbe40b"
      },
      "execution_count": 4,
      "outputs": [
        {
          "output_type": "stream",
          "name": "stdout",
          "text": [
            "Model: \"model\"\n",
            "_________________________________________________________________\n",
            " Layer (type)                Output Shape              Param #   \n",
            "=================================================================\n",
            " input_1 (InputLayer)        [(None, 28, 28)]          0         \n",
            "                                                                 \n",
            " flatten (Flatten)           (None, 784)               0         \n",
            "                                                                 \n",
            " dense (Dense)               (None, 50)                39250     \n",
            "                                                                 \n",
            " dense_1 (Dense)             (None, 784)               39984     \n",
            "                                                                 \n",
            " reshape (Reshape)           (None, 28, 28)            0         \n",
            "                                                                 \n",
            "=================================================================\n",
            "Total params: 79,234\n",
            "Trainable params: 79,234\n",
            "Non-trainable params: 0\n",
            "_________________________________________________________________\n"
          ]
        }
      ]
    },
    {
      "cell_type": "code",
      "source": [
        "autoencoder_model.fit(train, train, epochs=20)"
      ],
      "metadata": {
        "colab": {
          "base_uri": "https://localhost:8080/"
        },
        "id": "0WKWdn8Ct8li",
        "outputId": "2e3f6a74-f855-41f4-938b-fa8b98cf8bd1"
      },
      "execution_count": 5,
      "outputs": [
        {
          "output_type": "stream",
          "name": "stdout",
          "text": [
            "Epoch 1/20\n",
            "1875/1875 [==============================] - 12s 5ms/step - loss: 1217.8185\n",
            "Epoch 2/20\n",
            "1875/1875 [==============================] - 5s 3ms/step - loss: 824.1469\n",
            "Epoch 3/20\n",
            "1875/1875 [==============================] - 4s 2ms/step - loss: 802.0990\n",
            "Epoch 4/20\n",
            "1875/1875 [==============================] - 5s 3ms/step - loss: 796.3986\n",
            "Epoch 5/20\n",
            "1875/1875 [==============================] - 4s 2ms/step - loss: 792.2507\n",
            "Epoch 6/20\n",
            "1875/1875 [==============================] - 5s 3ms/step - loss: 789.6591\n",
            "Epoch 7/20\n",
            "1875/1875 [==============================] - 5s 2ms/step - loss: 788.5895\n",
            "Epoch 8/20\n",
            "1875/1875 [==============================] - 4s 2ms/step - loss: 786.6551\n",
            "Epoch 9/20\n",
            "1875/1875 [==============================] - 5s 3ms/step - loss: 785.5877\n",
            "Epoch 10/20\n",
            "1875/1875 [==============================] - 4s 2ms/step - loss: 784.6967\n",
            "Epoch 11/20\n",
            "1875/1875 [==============================] - 4s 2ms/step - loss: 784.2581\n",
            "Epoch 12/20\n",
            "1875/1875 [==============================] - 5s 3ms/step - loss: 783.1459\n",
            "Epoch 13/20\n",
            "1875/1875 [==============================] - 4s 2ms/step - loss: 782.9120\n",
            "Epoch 14/20\n",
            "1875/1875 [==============================] - 5s 3ms/step - loss: 782.1126\n",
            "Epoch 15/20\n",
            "1875/1875 [==============================] - 5s 2ms/step - loss: 781.4572\n",
            "Epoch 16/20\n",
            "1875/1875 [==============================] - 4s 2ms/step - loss: 780.9177\n",
            "Epoch 17/20\n",
            "1875/1875 [==============================] - 5s 3ms/step - loss: 780.4218\n",
            "Epoch 18/20\n",
            "1875/1875 [==============================] - 4s 2ms/step - loss: 779.7560\n",
            "Epoch 19/20\n",
            "1875/1875 [==============================] - 5s 2ms/step - loss: 779.8545\n",
            "Epoch 20/20\n",
            "1875/1875 [==============================] - 6s 3ms/step - loss: 779.1884\n"
          ]
        },
        {
          "output_type": "execute_result",
          "data": {
            "text/plain": [
              "<keras.callbacks.History at 0x7f045004cac0>"
            ]
          },
          "metadata": {},
          "execution_count": 5
        }
      ]
    },
    {
      "cell_type": "code",
      "source": [
        "image = test[45]"
      ],
      "metadata": {
        "id": "SFPMukMb3bLJ"
      },
      "execution_count": 6,
      "outputs": []
    },
    {
      "cell_type": "code",
      "source": [
        "cv2_imshow(image)\n",
        "cv2_imshow(autoencoder_model.predict(np.expand_dims(image, axis=0))[0])"
      ],
      "metadata": {
        "colab": {
          "base_uri": "https://localhost:8080/",
          "height": 90
        },
        "id": "kNe98cXAuVTr",
        "outputId": "bb802251-f600-44e5-c35f-10414f8d9929"
      },
      "execution_count": 7,
      "outputs": [
        {
          "output_type": "display_data",
          "data": {
            "text/plain": [
              "<PIL.Image.Image image mode=L size=28x28 at 0x7F0463BD74F0>"
            ],
            "image/png": "[encoded data removed]"
          },
          "metadata": {}
        },
        {
          "output_type": "stream",
          "name": "stdout",
          "text": [
            "1/1 [==============================] - 0s 133ms/step\n"
          ]
        },
        {
          "output_type": "display_data",
          "data": {
            "text/plain": [
              "<PIL.Image.Image image mode=L size=28x28 at 0x7F043C1C0880>"
            ],
            "image/png": "[encoded data removed]"
          },
          "metadata": {}
        }
      ]
    },
    {
      "cell_type": "code",
      "source": [
        "encoder_model = tf.keras.Model(inputs=encoder_input, outputs=encoder_bottleneck)\n",
        "encoder_model.compile(loss=tf.keras.losses.MeanSquaredError(), optimizer=tf.keras.optimizers.Adam())\n",
        "encoder_model.summary()"
      ],
      "metadata": {
        "colab": {
          "base_uri": "https://localhost:8080/"
        },
        "id": "E4GLAq5px9Ej",
        "outputId": "c3290a13-00a6-4fbb-8a87-e29472f8b7ed"
      },
      "execution_count": 8,
      "outputs": [
        {
          "output_type": "stream",
          "name": "stdout",
          "text": [
            "Model: \"model_1\"\n",
            "_________________________________________________________________\n",
            " Layer (type)                Output Shape              Param #   \n",
            "=================================================================\n",
            " input_1 (InputLayer)        [(None, 28, 28)]          0         \n",
            "                                                                 \n",
            " flatten (Flatten)           (None, 784)               0         \n",
            "                                                                 \n",
            " dense (Dense)               (None, 50)                39250     \n",
            "                                                                 \n",
            "=================================================================\n",
            "Total params: 39,250\n",
            "Trainable params: 39,250\n",
            "Non-trainable params: 0\n",
            "_________________________________________________________________\n"
          ]
        }
      ]
    },
    {
      "cell_type": "code",
      "source": [
        "decoder_model =  tf.keras.Model(inputs=encoder_bottleneck, outputs=decoder_reshape)\n",
        "decoder_model.compile(loss=tf.keras.losses.MeanSquaredError(), optimizer=tf.keras.optimizers.Adam())\n",
        "decoder_model.summary()"
      ],
      "metadata": {
        "colab": {
          "base_uri": "https://localhost:8080/"
        },
        "id": "PQuETGV82jSD",
        "outputId": "5760a00c-538b-4295-e167-ab794f538783"
      },
      "execution_count": 9,
      "outputs": [
        {
          "output_type": "stream",
          "name": "stdout",
          "text": [
            "Model: \"model_2\"\n",
            "_________________________________________________________________\n",
            " Layer (type)                Output Shape              Param #   \n",
            "=================================================================\n",
            " input_2 (InputLayer)        [(None, 50)]              0         \n",
            "                                                                 \n",
            " dense_1 (Dense)             (None, 784)               39984     \n",
            "                                                                 \n",
            " reshape (Reshape)           (None, 28, 28)            0         \n",
            "                                                                 \n",
            "=================================================================\n",
            "Total params: 39,984\n",
            "Trainable params: 39,984\n",
            "Non-trainable params: 0\n",
            "_________________________________________________________________\n"
          ]
        }
      ]
    },
    {
      "cell_type": "code",
      "source": [
        "encoded_image = encoder_model.predict(np.expand_dims(image, axis=0))[0]\n",
        "encoded_image"
      ],
      "metadata": {
        "colab": {
          "base_uri": "https://localhost:8080/"
        },
        "id": "_9BF0Jmu2oF-",
        "outputId": "6490ae07-4d71-4790-cb4d-8874f3038875"
      },
      "execution_count": 10,
      "outputs": [
        {
          "output_type": "stream",
          "name": "stdout",
          "text": [
            "1/1 [==============================] - 0s 75ms/step\n"
          ]
        },
        {
          "output_type": "execute_result",
          "data": {
            "text/plain": [
              "array([291.1057  , 490.50818 , 111.38887 , 119.34847 , 311.97653 ,\n",
              "       255.23985 , 194.60625 ,  57.84323 , 233.54886 , 211.51009 ,\n",
              "       149.15643 , 263.84726 ,  56.485516, 326.64627 ,  46.144913,\n",
              "       337.36676 ,  86.07765 , 190.97882 ,  53.676697, 187.31824 ,\n",
              "       325.49466 ,  89.050285, 202.70132 , 371.1553  , 102.00157 ,\n",
              "       141.31116 , 144.27638 , 177.53775 ,  61.51039 , 123.21827 ,\n",
              "       169.28416 , 170.2889  , 549.1979  , 163.417   , 499.87228 ,\n",
              "        66.825516, 259.82788 , 214.59962 , 378.42822 , 291.11084 ,\n",
              "       220.34897 ,  70.85952 , 134.16365 , 154.59279 , 317.07623 ,\n",
              "       164.56093 ,  77.189064, 251.5099  , 343.97168 ,  96.10869 ],\n",
              "      dtype=float32)"
            ]
          },
          "metadata": {},
          "execution_count": 10
        }
      ]
    },
    {
      "cell_type": "code",
      "source": [
        "decoded_image = decoder_model.predict(np.expand_dims(encoded_image, axis=0))[0]\n",
        "cv2_imshow(decoded_image)"
      ],
      "metadata": {
        "colab": {
          "base_uri": "https://localhost:8080/",
          "height": 62
        },
        "id": "bm7MQYt_20U0",
        "outputId": "be53c2f1-1198-498b-eece-00c247342bcb"
      },
      "execution_count": 11,
      "outputs": [
        {
          "output_type": "stream",
          "name": "stdout",
          "text": [
            "1/1 [==============================] - 0s 83ms/step\n"
          ]
        },
        {
          "output_type": "display_data",
          "data": {
            "text/plain": [
              "<PIL.Image.Image image mode=L size=28x28 at 0x7F043C19FF70>"
            ],
            "image/png": "[encoded data removed]"
          },
          "metadata": {}
        }
      ]
    }
  ]
}
